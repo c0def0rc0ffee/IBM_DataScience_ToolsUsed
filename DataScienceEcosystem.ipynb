{
 "cells": [
  {
   "cell_type": "markdown",
   "id": "7d4dc536-197d-437c-ab6b-684e0a7569ba",
   "metadata": {},
   "source": [
    "# Data Science Tools and Ecosystem"
   ]
  },
  {
   "cell_type": "markdown",
   "id": "5d1dc9b0-c250-4df5-881f-a686c30903ad",
   "metadata": {
    "tags": []
   },
   "source": [
    "In this notebook we learn about Data Science Tools and the Ecosystem"
   ]
  },
  {
   "cell_type": "markdown",
   "id": "80bc384e-7553-41da-8a59-ed09e13a4866",
   "metadata": {},
   "source": [
    "**Objectives:**\n",
    "* Frequent languages used in Data Science\n",
    "* Commonly used libraries \n",
    "* Tools used\n",
    "* Basic Arithmetic\n",
    "* Markup Formatting"
   ]
  },
  {
   "cell_type": "code",
   "execution_count": null,
   "id": "431c6a7f-160a-44f6-aa55-9a617cc404a5",
   "metadata": {},
   "outputs": [],
   "source": []
  },
  {
   "cell_type": "markdown",
   "id": "bf0bc27e-e0c8-4725-8bac-f96a9c9da1df",
   "metadata": {},
   "source": [
    "#### Some of the more frequently used languages in Data Science are\n",
    "\n",
    "1. Python\n",
    "2. R\n",
    "3. Julia\n",
    "4. SQL\n",
    "5. Scala"
   ]
  },
  {
   "cell_type": "code",
   "execution_count": null,
   "id": "4bc3dc51-a042-4f90-b7c8-0d019e929c8b",
   "metadata": {},
   "outputs": [],
   "source": []
  },
  {
   "cell_type": "markdown",
   "id": "2ef435cb-a548-4b22-ab84-83c8a8fc9a97",
   "metadata": {
    "tags": []
   },
   "source": [
    "#### Commonly used data science libraries are\n",
    "1. SciPy\n",
    "2. TensorFlow\n",
    "3. Pandas\n",
    "4. NumPy\n",
    "5. PyTorch"
   ]
  },
  {
   "cell_type": "code",
   "execution_count": null,
   "id": "2f1de61b-d494-4a0c-87d5-8727979a5d4e",
   "metadata": {},
   "outputs": [],
   "source": []
  },
  {
   "cell_type": "markdown",
   "id": "4c5d1c65-a44c-4f54-936c-21cedb296609",
   "metadata": {},
   "source": [
    "Data Science Tools  |\n",
    "------------------- |\n",
    "Hadoop |\n",
    "Apache Spark |\n",
    "KNIME |"
   ]
  },
  {
   "cell_type": "code",
   "execution_count": null,
   "id": "dbbfd2f7-4448-4c4f-a02e-f8d08f4a34a1",
   "metadata": {},
   "outputs": [],
   "source": []
  },
  {
   "cell_type": "markdown",
   "id": "3a99dc51-078f-4246-9e76-2137fa18ac12",
   "metadata": {},
   "source": [
    "### Below are some examples of arithmetic expression in Python"
   ]
  },
  {
   "cell_type": "markdown",
   "id": "6baf2a8b-a33b-4c96-9aa8-76d7a5661fe2",
   "metadata": {},
   "source": [
    "Simple expression to multiply then add integers"
   ]
  },
  {
   "cell_type": "code",
   "execution_count": 2,
   "id": "e2371539-6034-40b7-81f3-ff35ba1cabd5",
   "metadata": {
    "tags": []
   },
   "outputs": [
    {
     "data": {
      "text/plain": [
       "17"
      ]
     },
     "execution_count": 2,
     "metadata": {},
     "output_type": "execute_result"
    }
   ],
   "source": [
    "(3*4+5)"
   ]
  },
  {
   "cell_type": "code",
   "execution_count": null,
   "id": "52ecfd15-6645-4fb4-9821-fcff212e6217",
   "metadata": {},
   "outputs": [],
   "source": []
  },
  {
   "cell_type": "markdown",
   "id": "92df0d4e-a200-4554-8700-e4c7d0334b6a",
   "metadata": {
    "tags": []
   },
   "source": [
    "Simple division to convert 200 minutes into hours"
   ]
  },
  {
   "cell_type": "code",
   "execution_count": 4,
   "id": "b1f1e848-bed2-41a8-a909-43bd6e7f01fb",
   "metadata": {
    "tags": []
   },
   "outputs": [
    {
     "data": {
      "text/plain": [
       "3.3333333333333335"
      ]
     },
     "execution_count": 4,
     "metadata": {},
     "output_type": "execute_result"
    }
   ],
   "source": [
    "200/60"
   ]
  },
  {
   "cell_type": "code",
   "execution_count": null,
   "id": "ff49cef8-0411-48c3-8e0d-029d832c5ee3",
   "metadata": {},
   "outputs": [],
   "source": []
  },
  {
   "cell_type": "markdown",
   "id": "9d01917e-c511-4dae-86df-b18bb040ad09",
   "metadata": {},
   "source": [
    "## Author\n",
    "Robert Ford"
   ]
  }
 ],
 "metadata": {
  "kernelspec": {
   "display_name": "Python",
   "language": "python",
   "name": "conda-env-python-py"
  },
  "language_info": {
   "codemirror_mode": {
    "name": "ipython",
    "version": 3
   },
   "file_extension": ".py",
   "mimetype": "text/x-python",
   "name": "python",
   "nbconvert_exporter": "python",
   "pygments_lexer": "ipython3",
   "version": "3.7.12"
  }
 },
 "nbformat": 4,
 "nbformat_minor": 5
}
